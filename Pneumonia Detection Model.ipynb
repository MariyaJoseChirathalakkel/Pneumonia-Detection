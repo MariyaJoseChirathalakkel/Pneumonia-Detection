{
 "cells": [
  {
   "cell_type": "markdown",
   "metadata": {},
   "source": [
    "### CHEST X RAY CLASSIFICATION MODEL USING CNN"
   ]
  },
  {
   "cell_type": "code",
   "execution_count": null,
   "metadata": {},
   "outputs": [],
   "source": [
    "import tensorflow\n",
    "from tensorflow import keras\n",
    "from tensorflow.keras import layers\n",
    "from tensorflow.keras.models import Sequential\n",
    "from tensorflow.keras.layers import Dense, Dropout, Flatten\n",
    "from tensorflow.keras.layers import Conv2D, AveragePooling2D,MaxPooling2D\n",
    "from tensorflow.keras.callbacks import TensorBoard, ModelCheckpoint\n",
    "from tensorflow.keras.utils import to_categorical"
   ]
  },
  {
   "cell_type": "code",
   "execution_count": null,
   "metadata": {},
   "outputs": [],
   "source": [
    "# Compile the model\n",
    "model.compile(loss = 'binary_crossentropy', optimizer='adam', metrics=[\"accuracy\"])"
   ]
  },
  {
   "cell_type": "code",
   "execution_count": null,
   "metadata": {},
   "outputs": [],
   "source": [
    "########\n",
    "model = Sequential()\n",
    "\n",
    "# C1 Convolutional Layer\n",
    "model.add(layers.Conv2D(filters = 6, kernel_size=(5, 5), strides=(1, 1), activation='relu', input_shape=(32,32,1), \n",
    "                        padding=\"same\"))\n",
    "\n",
    "# S2 Pooling Layer\n",
    "model.add(layers.MaxPooling2D(pool_size=(2, 2), strides=(1, 1), padding='valid'))\n",
    "model.add(layers.Dropout(0.5))\n",
    "\n",
    "# C3 Convolutional Layer\n",
    "model.add(layers.Conv2D(filters = 16, kernel_size=(3, 3), strides=(1, 1), activation='relu', padding='valid'))\n",
    "\n",
    "# S4 Pooling Layer\n",
    "model.add(layers.MaxPooling2D(pool_size=(2, 2), strides=(2, 2), padding='valid'))\n",
    "model.add(layers.Dropout(0.5))\n",
    "# C5 Fully Connected Convolutional Layer\n",
    "model.add(layers.Conv2D(120, kernel_size=(5, 5), strides=(1, 1), activation='relu', padding='valid'))\n",
    "#Flatten the CNN output so that we can connect it with fully connected layers\n",
    "model.add(layers.Flatten())\n",
    "\n",
    "# FC6 Fully Connected Layer\n",
    "model.add(layers.Dense(84, activation='relu'))\n",
    "model.add(layers.Dropout(0.5))\n",
    "#Output Layer with softmax activation\n",
    "model.add(layers.Dense(2, activation='sigmoid'))\n",
    "\n",
    "# Compile the model\n",
    "model.compile(loss = 'binary_crossentropy', optimizer='adam', metrics=[\"accuracy\"])"
   ]
  },
  {
   "cell_type": "code",
   "execution_count": null,
   "metadata": {},
   "outputs": [],
   "source": [
    "#### 8.)\n",
    "xtrain = xtrain.astype('float32')\n",
    "xtest = xtest.astype('float32')\n",
    "xval = xval.astype('float32')\n",
    "\n",
    "# Transform lables to one-hot encoding\n",
    "ytrain = to_categorical(ytrain)\n",
    "ytest = to_categorical(ytest)\n",
    "yval=to_categorical(yval)\n",
    "# Reshape the dataset into 4D array\n",
    "xtrain = xtrain.reshape(xtrain.shape[0], 32,32,1)\n",
    "xtest = xtest.reshape(xtest.shape[0], 32,32,1)\n",
    "xval = xval.reshape(xval.shape[0], 32,32,1)"
   ]
  },
  {
   "cell_type": "code",
   "execution_count": null,
   "metadata": {},
   "outputs": [],
   "source": [
    "model.fit(x=xtrain, y=ytrain,batch_size=32,epochs=10,verbose=1,validation_data=(xtest,ytest))"
   ]
  },
  {
   "cell_type": "code",
   "execution_count": null,
   "metadata": {},
   "outputs": [],
   "source": [
    "def img(a):\n",
    "    a=cv2.imread(a,0)\n",
    "    a=cv2.resize(a,(32,32))\n",
    "    a=a/255\n",
    "    a=a.reshape(-1,32,32,1)\n",
    "    return a"
   ]
  },
  {
   "cell_type": "code",
   "execution_count": null,
   "metadata": {},
   "outputs": [],
   "source": [
    "a=cv2.imread(b,0)"
   ]
  },
  {
   "cell_type": "code",
   "execution_count": null,
   "metadata": {},
   "outputs": [],
   "source": [
    "def plot_metrics(history):\n",
    "    \n",
    "    train_loss = history['loss']\n",
    "    val_loss = history['val_loss']\n",
    "    train_acc = history['accuracy']\n",
    "    val_acc = history['val_accuracy']\n",
    "    \n",
    "    # Loss\n",
    "    plt.figure()\n",
    "    plt.plot(train_loss, label='Training Loss')\n",
    "    plt.plot(val_loss, label='Validation Loss')\n",
    "    plt.title('Loss')\n",
    "    plt.legend()\n",
    "    plt.show()\n",
    "    \n",
    "    # Accuracy\n",
    "    plt.figure()\n",
    "    plt.plot(train_acc, label='Training Accuracy')\n",
    "    plt.plot(val_acc, label='Validation Accuracy')\n",
    "    plt.title('Accuracy')\n",
    "    plt.legend()\n",
    "    plt.show()"
   ]
  },
  {
   "cell_type": "code",
   "execution_count": null,
   "metadata": {},
   "outputs": [],
   "source": [
    "his=model.history.history"
   ]
  },
  {
   "cell_type": "code",
   "execution_count": null,
   "metadata": {},
   "outputs": [],
   "source": [
    "for key in his.keys():\n",
    "    print(key)"
   ]
  },
  {
   "cell_type": "code",
   "execution_count": null,
   "metadata": {},
   "outputs": [],
   "source": [
    "plot_metrics(his)"
   ]
  }
 ],
 "metadata": {
  "kernelspec": {
   "display_name": "Python 3",
   "language": "python",
   "name": "python3"
  },
  "language_info": {
   "codemirror_mode": {
    "name": "ipython",
    "version": 3
   },
   "file_extension": ".py",
   "mimetype": "text/x-python",
   "name": "python",
   "nbconvert_exporter": "python",
   "pygments_lexer": "ipython3",
   "version": "3.7.3"
  }
 },
 "nbformat": 4,
 "nbformat_minor": 2
}
