{
 "cells": [
  {
   "cell_type": "markdown",
   "metadata": {},
   "source": [
    "#### Step1: Importing the necessary packages"
   ]
  },
  {
   "cell_type": "code",
   "execution_count": null,
   "metadata": {},
   "outputs": [],
   "source": [
    "import os\n",
    "import cv2\n",
    "from sklearn.utils import shuffle\n",
    "import numpy as np\n",
    "import pandas as pd\n",
    "import matplotlib.pyplot as plt"
   ]
  },
  {
   "cell_type": "markdown",
   "metadata": {},
   "source": [
    "#### Step2:  Augmentation"
   ]
  },
  {
   "cell_type": "code",
   "execution_count": null,
   "metadata": {},
   "outputs": [],
   "source": [
    "import Augmentor\n",
    "p = Augmentor.Pipeline(\"C:/Users/Datapirates/Desktop/image/chest_xray/train/NORMAL\")\n",
    "p.rotate(probability=0.7, max_left_rotation=10, max_right_rotation=10)\n",
    "p.zoom(probability=0.5, min_factor=1.1, max_factor=1.5)\n",
    "p.sample(4000)"
   ]
  },
  {
   "cell_type": "markdown",
   "metadata": {},
   "source": [
    "#### Step3: Denoising,Segmenting,Normalising"
   ]
  },
  {
   "cell_type": "code",
   "execution_count": null,
   "metadata": {},
   "outputs": [],
   "source": [
    "def lo(image):\n",
    "    \n",
    "    image = cv2.GaussianBlur(image, (5, 5), 0)\n",
    "\n",
    "    \n",
    "    image = cv2.adaptiveThreshold(image,255,cv2.ADAPTIVE_THRESH_GAUSSIAN_C,cv2.THRESH_BINARY,11,2)\n",
    "    image = cv2.erode(image, None, iterations=2)\n",
    "    image = cv2.dilate(image, None, iterations=2)\n",
    "    \n",
    "    image = image/255\n",
    "    return image"
   ]
  },
  {
   "cell_type": "markdown",
   "metadata": {},
   "source": [
    "#### Step4: Importing and labelling files from train folder"
   ]
  },
  {
   "cell_type": "code",
   "execution_count": null,
   "metadata": {},
   "outputs": [],
   "source": [
    "tx = []\n",
    "ty = []\n",
    "tz = []\n",
    "\n",
    "dir_list=\"C:/Users/Datapirates/Desktop/image/chest_xray/train/\" \n",
    "for directory in os.listdir(dir_list):\n",
    "    for filename in os.listdir(dir_list + '/' + directory):\n",
    "        tz.append(filename) \n",
    "        \n",
    "        image = cv2.imread(dir_list + '/' + directory + '/' + filename,0)\n",
    "        \n",
    "        image = lo(image)\n",
    "        image = cv2.resize(image,dsize=(32,32))\n",
    "        tx.append(image)\n",
    "        \n",
    "        ###labelling\n",
    "        if directory == 'PNEUMONIA':\n",
    "            ty.append(1)\n",
    "        else:\n",
    "            ty.append(0)  \n",
    "        \n",
    "xtrain=np.array(tx) \n",
    "ytrain=np.array(ty)\n",
    "\n",
    "xtrain,ytrain=shuffle(xtrain,ytrain)\n",
    "        "
   ]
  },
  {
   "cell_type": "code",
   "execution_count": null,
   "metadata": {},
   "outputs": [],
   "source": [
    "a=cv2.imread(\"C:/Users/Datapirates/Desktop/image/chest_xray/train/PNEUMONIA/person1_bacteria_2.jpeg\",0)"
   ]
  },
  {
   "cell_type": "code",
   "execution_count": null,
   "metadata": {},
   "outputs": [],
   "source": [
    "imag = cv2.threshold(a,127,255,cv2.THRESH_TOZERO)"
   ]
  },
  {
   "cell_type": "markdown",
   "metadata": {},
   "source": [
    "#### Step5: Test data importing and labelling"
   ]
  },
  {
   "cell_type": "code",
   "execution_count": null,
   "metadata": {},
   "outputs": [],
   "source": [
    "x1 = []\n",
    "y1 = []\n",
    "\n",
    "dir_list=\"C:/Users/Datapirates/Desktop/image/chest_xray/test\"   \n",
    "for directory in os.listdir(dir_list):\n",
    "    for filename in os.listdir(dir_list + '/' + directory):\n",
    "        #z1.append(filename) \n",
    "        \n",
    "        image = cv2.imread(dir_list + '/' + directory + '/' + filename,0)\n",
    "        image = lo(image)\n",
    "        image = cv2.resize(image,dsize=(32,32))\n",
    "        x1.append(image)\n",
    "        \n",
    "        if directory == 'PNEUMONIA':\n",
    "            y1.append(1)\n",
    "        else:\n",
    "            y1.append(0) \n",
    "            \n",
    "\n",
    "xtest=np.array(x1)\n",
    "ytest=np.array(y1)\n",
    "xtest,ytest=shuffle(xtest,ytest)         "
   ]
  },
  {
   "cell_type": "markdown",
   "metadata": {},
   "source": [
    "#### Step6: Validation set importing and labelling"
   ]
  },
  {
   "cell_type": "code",
   "execution_count": null,
   "metadata": {},
   "outputs": [],
   "source": [
    "val=[]\n",
    "file=[]\n",
    "\n",
    "dir_list=\"C:/Users/Datapirates/Desktop/image/chest_xray/val\"   \n",
    "for directory in os.listdir(dir_list):\n",
    "    for filename in os.listdir(dir_list + '/' + directory):\n",
    "        #file.append(filename) \n",
    "        \n",
    "        image = cv2.imread(dir_list + '/' + directory + '/' + filename,0)\n",
    "        image=lo(image)\n",
    "        image=cv2.resize(image,dsize=(32,32))\n",
    "        \n",
    "        val.append(image)\n",
    "        \n",
    "        \n",
    "        if directory == 'PNEUMONIA':\n",
    "            file.append(1)\n",
    "        else:\n",
    "            file.append(0)\n",
    "            \n",
    "xval=np.array(val)\n",
    "yval=np.array(file)\n",
    "xval,yval=shuffle(xval,yval)"
   ]
  }
 ],
 "metadata": {
  "kernelspec": {
   "display_name": "Python 3",
   "language": "python",
   "name": "python3"
  },
  "language_info": {
   "codemirror_mode": {
    "name": "ipython",
    "version": 3
   },
   "file_extension": ".py",
   "mimetype": "text/x-python",
   "name": "python",
   "nbconvert_exporter": "python",
   "pygments_lexer": "ipython3",
   "version": "3.7.3"
  }
 },
 "nbformat": 4,
 "nbformat_minor": 2
}
